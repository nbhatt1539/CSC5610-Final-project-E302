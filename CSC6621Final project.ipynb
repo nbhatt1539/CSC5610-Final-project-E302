{
 "cells": [
  {
   "cell_type": "markdown",
   "id": "92a3b603-03ec-4649-aaed-79a96efa5c20",
   "metadata": {},
   "source": [
    " ## CSC6621 - Final project - Team E-302\n",
    "### Human activity recognition using Smartphones"
   ]
  },
  {
   "cell_type": "markdown",
   "id": "54e11e50-4f8a-47f0-9a84-42e482c61ab8",
   "metadata": {},
   "source": [
    "The dataset includes the following files:\n",
    "=========================================\n",
    "\n",
    "- 'README.txt'\n",
    "\n",
    "- 'features_info.txt': Shows information about the variables used on the feature vector.\n",
    "\n",
    "- 'features.txt': List of all features.\n",
    "\n",
    "- 'activity_labels.txt': Links the class labels with their activity name.\n",
    "\n",
    "- 'train/X_train.txt': Training set.\n",
    "\n",
    "- 'train/y_train.txt': Training labels.\n",
    "\n",
    "- 'test/X_test.txt': Test set.\n",
    "\n",
    "- 'test/y_test.txt': Test labels.\n",
    "\n",
    "The following files are available for the train and test data. Their descriptions are equivalent. \n",
    "\n",
    "- 'train/subject_train.txt': Each row identifies the subject who performed the activity for each window sample. Its range is from 1 to 30. \n",
    "\n",
    "- 'train/Inertial Signals/total_acc_x_train.txt': The acceleration signal from the smartphone accelerometer X axis in standard gravity units 'g'. Every row shows a 128 element vector. The same description applies for the 'total_acc_x_train.txt' and 'total_acc_z_train.txt' files for the Y and Z axis. \n",
    "\n",
    "- 'train/Inertial Signals/body_acc_x_train.txt': The body acceleration signal obtained by subtracting the gravity from the total acceleration. \n",
    "\n",
    "- 'train/Inertial Signals/body_gyro_x_train.txt': The angular velocity vector measured by the gyroscope for each window sample. The units are radians/second. \n",
    "\n",
    "Notes: \n",
    "======\n",
    "- Features are normalized and bounded within [-1,1].\n",
    "- Each feature vector is a row on the text file.\n",
    "- The units used for the accelerations (total and body) are 'g's (gravity of earth -> 9.80665 m/seg2).\n",
    "- The gyroscope units are rad/seg.\n",
    "- A video of the experiment including an example of the 6 recorded activities with one of the participants can be seen in the following link: http://www.youtube.com/watch?v=XOEN9W05_4A"
   ]
  },
  {
   "cell_type": "code",
   "execution_count": 1,
   "id": "acd38d4b-a0d6-48d0-b097-c353a29e586f",
   "metadata": {},
   "outputs": [],
   "source": [
    "import pandas as pd\n",
    "import numpy as np\n",
    "import matplotlib.pyplot as plt\n",
    "import seaborn as sns"
   ]
  },
  {
   "cell_type": "code",
   "execution_count": null,
   "id": "80ead8eb-0ab9-4a01-a015-c6849ebc6eee",
   "metadata": {},
   "outputs": [],
   "source": [
    "df = pd.read_csv('/human-activity-recognition-with-smartphones/train.csv').drop(columns='subject')\n",
    "df.head()"
   ]
  }
 ],
 "metadata": {
  "kernelspec": {
   "display_name": "Python 3 (ipykernel)",
   "language": "python",
   "name": "python3"
  },
  "language_info": {
   "codemirror_mode": {
    "name": "ipython",
    "version": 3
   },
   "file_extension": ".py",
   "mimetype": "text/x-python",
   "name": "python",
   "nbconvert_exporter": "python",
   "pygments_lexer": "ipython3",
   "version": "3.11.3"
  }
 },
 "nbformat": 4,
 "nbformat_minor": 5
}
